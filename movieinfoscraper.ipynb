{
 "cells": [
  {
   "cell_type": "code",
   "execution_count": 7,
   "metadata": {},
   "outputs": [],
   "source": [
    "import requests\n",
    "import json\n",
    "from pathlib import Path"
   ]
  },
  {
   "cell_type": "code",
   "execution_count": 2,
   "metadata": {},
   "outputs": [],
   "source": [
    "KAVI_URL = 'https://luokittelu.kavi.fi/programs/search/'\n",
    "KAVI_PARAMS = {\n",
    "    \"page\": \"0\",\n",
    "    \"filters[]\": \"1\",\n",
    "    \"agelimits[]\": [\"0\",\"7\",\"12\"],\n",
    "    \"showCount\": True,\n",
    "    \"sorted\": True\n",
    "}"
   ]
  },
  {
   "cell_type": "code",
   "execution_count": 3,
   "metadata": {},
   "outputs": [],
   "source": [
    "def get_page(page_num):\n",
    "    params = KAVI_PARAMS.copy()\n",
    "    params[\"page\"] = str(page_num)\n",
    "    response = requests.get(KAVI_URL, params=params)\n",
    "    programs = response.json()['programs']\n",
    "    if len(programs):\n",
    "        with open(f'kavi.s-7-12.{page_num}.json', 'w') as f:\n",
    "            json.dump(programs, f, indent=4)\n",
    "        return True\n",
    "    return False"
   ]
  },
  {
   "cell_type": "code",
   "execution_count": 4,
   "metadata": {},
   "outputs": [
    {
     "name": "stdout",
     "output_type": "stream",
     "text": [
      "0\n",
      "1\n",
      "2\n",
      "3\n",
      "4\n",
      "5\n",
      "6\n",
      "7\n",
      "8\n",
      "9\n",
      "10\n",
      "11\n",
      "12\n",
      "13\n",
      "14\n",
      "15\n",
      "16\n",
      "17\n",
      "18\n",
      "19\n",
      "20\n",
      "21\n",
      "22\n",
      "23\n",
      "24\n",
      "25\n",
      "26\n",
      "27\n",
      "28\n",
      "29\n",
      "30\n",
      "31\n",
      "32\n",
      "33\n",
      "34\n",
      "35\n",
      "36\n",
      "37\n",
      "38\n",
      "39\n",
      "40\n",
      "41\n",
      "42\n",
      "43\n",
      "44\n",
      "45\n",
      "46\n",
      "47\n",
      "48\n",
      "49\n",
      "50\n",
      "51\n",
      "52\n",
      "53\n",
      "54\n",
      "55\n",
      "56\n",
      "57\n",
      "58\n",
      "59\n",
      "60\n",
      "61\n",
      "62\n",
      "63\n",
      "64\n",
      "65\n",
      "66\n",
      "67\n",
      "68\n",
      "69\n",
      "70\n",
      "71\n",
      "72\n",
      "73\n",
      "74\n",
      "75\n",
      "76\n",
      "77\n",
      "78\n"
     ]
    }
   ],
   "source": [
    "for page in range(1000):\n",
    "    print(page)\n",
    "    if not get_page(page):\n",
    "        break"
   ]
  },
  {
   "cell_type": "code",
   "execution_count": 60,
   "metadata": {},
   "outputs": [
    {
     "name": "stdout",
     "output_type": "stream",
     "text": [
      "kavi.s-7-12.26.json\n",
      "kavi.s-7-12.59.json\n",
      "kavi.s-7-12.69.json\n",
      "kavi.s-7-12.64.json\n",
      "kavi.s-7-12.76.json\n",
      "kavi.s-7-12.22.json\n",
      "kavi.s-7-12.32.json\n",
      "kavi.s-7-12.2.json\n",
      "kavi.s-7-12.53.json\n",
      "kavi.s-7-12.73.json\n",
      "kavi.s-7-12.72.json\n",
      "kavi.s-7-12.28.json\n",
      "kavi.s-7-12.56.json\n",
      "kavi.s-7-12.58.json\n",
      "kavi.s-7-12.16.json\n",
      "kavi.s-7-12.38.json\n",
      "kavi.s-7-12.35.json\n",
      "kavi.s-7-12.6.json\n",
      "kavi.s-7-12.45.json\n",
      "kavi.s-7-12.15.json\n",
      "kavi.s-7-12.18.json\n",
      "kavi.s-7-12.3.json\n",
      "kavi.s-7-12.31.json\n",
      "kavi.s-7-12.39.json\n",
      "kavi.s-7-12.41.json\n",
      "kavi.s-7-12.17.json\n",
      "kavi.s-7-12.50.json\n",
      "kavi.s-7-12.11.json\n",
      "kavi.s-7-12.30.json\n",
      "kavi.s-7-12.52.json\n",
      "kavi.s-7-12.4.json\n",
      "kavi.s-7-12.34.json\n",
      "kavi.s-7-12.33.json\n",
      "kavi.s-7-12.27.json\n",
      "kavi.s-7-12.37.json\n",
      "kavi.s-7-12.8.json\n",
      "kavi.s-7-12.67.json\n",
      "kavi.s-7-12.71.json\n",
      "kavi.s-7-12.0.json\n",
      "kavi.s-7-12.5.json\n",
      "kavi.s-7-12.7.json\n",
      "kavi.s-7-12.66.json\n",
      "kavi.s-7-12.20.json\n",
      "kavi.s-7-12.47.json\n",
      "kavi.s-7-12.74.json\n",
      "kavi.s-7-12.46.json\n",
      "kavi.s-7-12.14.json\n",
      "kavi.s-7-12.25.json\n",
      "kavi.s-7-12.40.json\n",
      "kavi.s-7-12.68.json\n",
      "kavi.s-7-12.13.json\n",
      "kavi.s-7-12.75.json\n",
      "kavi.s-7-12.54.json\n",
      "kavi.s-7-12.10.json\n",
      "kavi.s-7-12.55.json\n",
      "kavi.s-7-12.70.json\n",
      "kavi.s-7-12.29.json\n",
      "kavi.s-7-12.48.json\n",
      "kavi.s-7-12.12.json\n",
      "kavi.s-7-12.62.json\n",
      "kavi.s-7-12.36.json\n",
      "kavi.s-7-12.44.json\n",
      "kavi.s-7-12.43.json\n",
      "kavi.s-7-12.42.json\n",
      "kavi.s-7-12.24.json\n",
      "kavi.s-7-12.19.json\n",
      "kavi.s-7-12.49.json\n",
      "kavi.s-7-12.57.json\n",
      "kavi.s-7-12.63.json\n",
      "kavi.s-7-12.1.json\n",
      "kavi.s-7-12.77.json\n",
      "kavi.s-7-12.21.json\n",
      "kavi.s-7-12.23.json\n",
      "kavi.s-7-12.65.json\n",
      "kavi.s-7-12.51.json\n",
      "kavi.s-7-12.9.json\n",
      "kavi.s-7-12.61.json\n",
      "kavi.s-7-12.60.json\n"
     ]
    }
   ],
   "source": [
    "kavi_jsons = Path('.').glob('kavi.s-7-12.*.json')\n",
    "kavi_s_12_16 = []\n",
    "for path in kavi_jsons:\n",
    "    with path.open() as fp:\n",
    "        print(path)\n",
    "        kavi_s_12_16.extend(json.load(fp))\n",
    "        \n",
    "def name_sort_key(program):\n",
    "    name = program[\"name\"][0].strip()\n",
    "    alphanum = (c for c in name if c.isalnum())\n",
    "    return \"\".join(alphanum) + name\n",
    "\n",
    "kavi_s_12_16.sort(key=name_sort_key)\n",
    "\n",
    "with Path('kavi.s-7-12.json').open('w') as fp:\n",
    "    json.dump(kavi_s_12_16, fp, indent=4)"
   ]
  },
  {
   "cell_type": "code",
   "execution_count": 57,
   "metadata": {},
   "outputs": [],
   "source": []
  },
  {
   "cell_type": "code",
   "execution_count": 59,
   "metadata": {},
   "outputs": [
    {
     "data": {
      "text/plain": [
       "['\"?\"',\n",
       " '002002',\n",
       " '00800.8',\n",
       " '04ITSEKKYYDENASTEIKOLLA0,4% ITSEKKYYDEN ASTEIKOLLA',\n",
       " '1000000FACETHE1000000 $ FACE, THE',\n",
       " '100000unterrotenFahnen100000 unter roten Fahnen',\n",
       " '10000BC10000 B.C.',\n",
       " '10000Days10 000 Days',\n",
       " '10000timmar10 000 timmar',\n",
       " '1000DAYSATRIBUTETOJFK1000 DAYS - A TRIBUTE TO JFK',\n",
       " '1000SterneLeuchten1000 Sterne Leuchten',\n",
       " '1001ArabianNights1001 Arabian Nights',\n",
       " '1001YÖNMAAILMATÄNÄÄN1001 YÖN MAAILMA TÄNÄÄN',\n",
       " '100ASTETTAC212ASTETTAF100 ASTETTA C/212 ASTETTA F',\n",
       " '100DegreesBelowZero100 Degrees Below Zero',\n",
       " '100GIRLS100 GIRLS',\n",
       " '100letvesluzbáchtechnickéhopokroku100 let ve sluzbách technického pokroku',\n",
       " '100vuottasitten100 vuotta sitten',\n",
       " '100vuottasuomalaisiaviinejäjaliköörejä100 vuotta suomalaisia viinejä ja liköörejä',\n",
       " '100vuottatuotantoa100 vuotta tuotantoa',\n",
       " '1010EST10:10 E.S.T.',\n",
       " '101DALMATIANS2101 DALMATIANS 2',\n",
       " '101Dalmatians101 Dalmatians',\n",
       " '101Dalmatians101 Dalmatians',\n",
       " '10201020',\n",
       " '102DALMATIANS102 DALMATIANS',\n",
       " '1035A1035A',\n",
       " '10Cloverfieldlane10 Cloverfield lane',\n",
       " '10DocPointHelsingindokumenttielokuvafestivaali10. DocPoint - Helsingin dokumenttielokuvafestivaali',\n",
       " '10ItemsorLess10 Items or Less',\n",
       " '10MINUUTTIALANNANHOITOA10 MINUUTTIA LANNANHOITOA',\n",
       " '10RulesofSleepingAround10 Rules of Sleeping Around',\n",
       " '10ThingsIHateAboutYou10 Things I Hate About You',\n",
       " '10ThingsWeShouldDoBeforeWeBreakUp10 Things We Should Do Before We Break Up',\n",
       " '10thKingdomThe10th Kingdom, The',\n",
       " '10years10 years',\n",
       " '11',\n",
       " '1105MARBLESLAB1105 MARBLE SLAB',\n",
       " '110JahreBundesstaat110-Jahre Bundesstaat',\n",
       " '1111+1=1?',\n",
       " '1113B1113B',\n",
       " '111411:14',\n",
       " '11611.6',\n",
       " '1192001September1111.9.2001 - September 11',\n",
       " '11THCOMMANDMENTTHE11TH COMMANDMENT, THE',\n",
       " '11thHour11th Hour',\n",
       " '123Go1-2-3-Go',\n",
       " '125lMalovoTeatra125-l. Malovo Teatra',\n",
       " '125vuotiasJyväskylä125-vuotias Jyväskylä',\n",
       " '125vuotiasJyväskylä125-vuotias Jyväskylä',\n",
       " '127hours127 hours',\n",
       " '12AngryMen12 Angry Men',\n",
       " '12AngryMen12 Angry Men',\n",
       " '12DatesofChristmas12 Dates of Christmas',\n",
       " '12DaysofTerror12 Days of Terror',\n",
       " '12Dicembre12 Dicembre',\n",
       " '12DogsofChristmasThe12 Dogs of Christmas, The',\n",
       " '12FLAGASOUTH12 FLAGA SOUTH',\n",
       " '12FeetDeep12 Feet Deep',\n",
       " '12MenofChristmas12 Men of Christmas',\n",
       " '12Rounds12 Rounds',\n",
       " '12Stuljev112 Stuljev 1',\n",
       " '12Stuljev212 Stuljev 2',\n",
       " '12UHRMITTAGSKOMMTDERBOSS12 UHR MITTAGS KOMMT DER BOSS',\n",
       " '131913-19',\n",
       " '1319IHONHOITO13-19 IHONHOITO',\n",
       " '13Goingon3013 Going on 30',\n",
       " '13JOURSENFRANCE13 JOURS EN FRANCE',\n",
       " '13PÄIVÄÄELÄMÄSTÄ13 PÄIVÄÄ ELÄMÄSTÄ',\n",
       " '13Salaperäinenshow13 Salaperäinen show',\n",
       " '13thLetterThe13th Letter, The',\n",
       " '13áLagor13 á Lagor',\n",
       " '14081408',\n",
       " \"1408DirectorsCut1408. Director's Cut\",\n",
       " '14CarrotRabbit14 Carrot Rabbit',\n",
       " '14GOINGON3014 GOING ON 30',\n",
       " '14Hours14 Hours',\n",
       " '150JAHREPREUSSISCHEMUSEENINBERLIN150 JAHRE PREUSSISCHE MUSEEN IN BERLIN',\n",
       " '150letsodnjarozhdenijaVGygo150 let so dnja rozhdenija V. Gygo',\n",
       " '158318197515.8. - 31.8. 1975',\n",
       " '15PROMILLEA1,5 PROMILLEA',\n",
       " '15THTOKYOMOTORSHOW15TH TOKYO MOTOR SHOW',\n",
       " '15dneivGeneve15 dnei v Geneve',\n",
       " '15metriätilaa1,5 metriä tilaa',\n",
       " '15év15 év',\n",
       " '1600YEARSUNDERTHESEA1600 YEARS UNDER THE SEA',\n",
       " '1600luvunkoti1600-luvun koti',\n",
       " '1612197716.12.1977',\n",
       " '16Blocks16 Blocks',\n",
       " '16DAYSOFGLORY16 DAYS OF GLORY',\n",
       " '16THTOKYOMOTORSHOWTHE16TH TOKYO MOTOR SHOW, THE',\n",
       " '16gegenEinen16 gegen Einen',\n",
       " '1717',\n",
       " '1776SAGAOFWESTERNMANSERIESPART11776 SAGA OF WESTERN MAN SERIES. PART 1',\n",
       " '17Again17 Again',\n",
       " '17GoingOnNowhere17 -Going On Nowhere',\n",
       " '17KESÄ17. KESÄ',\n",
       " '180isMax180 is Max',\n",
       " '18481848',\n",
       " '186819681868 - 1968']"
      ]
     },
     "execution_count": 59,
     "metadata": {},
     "output_type": "execute_result"
    }
   ],
   "source": [
    "[name_sort_key(p) for p in kavi_s_12_16[:100]]"
   ]
  },
  {
   "cell_type": "code",
   "execution_count": 50,
   "metadata": {},
   "outputs": [
    {
     "data": {
      "text/plain": [
       "'HerbieTurunTyöväenSäästöpankki'"
      ]
     },
     "execution_count": 50,
     "metadata": {},
     "output_type": "execute_result"
    }
   ],
   "source": [
    "\"\".join(c for c in kavi_s_12_16[3]['name'][0] if c.isalpha())"
   ]
  },
  {
   "cell_type": "code",
   "execution_count": 47,
   "metadata": {},
   "outputs": [
    {
     "data": {
      "text/plain": [
       "True"
      ]
     },
     "execution_count": 47,
     "metadata": {},
     "output_type": "execute_result"
    }
   ],
   "source": [
    "'a'.isalpha()"
   ]
  },
  {
   "cell_type": "code",
   "execution_count": null,
   "metadata": {},
   "outputs": [],
   "source": []
  },
  {
   "cell_type": "code",
   "execution_count": 5,
   "metadata": {},
   "outputs": [],
   "source": [
    "sfanytimelistmovesurl = r'https://gql.sfanytime.com/graphql\\?operationName\\=ContentCollectionQuery\\&variables\\=%7B%22locale%22%3A%22fi%22%2C%22slug%22%3A%22elokuvat%22%7D\\&extensions\\=%7B%22persistedQuery%22%3A%7B%22version%22%3A1%2C%22sha256Hash%22%3A%228985c5d821d45a4a73c3e18680011bb95838b51563d87b15dd32bc0e469cf669%22%7D%7D'.replace(r'\\\\', '')"
   ]
  },
  {
   "cell_type": "code",
   "execution_count": 6,
   "metadata": {},
   "outputs": [
    {
     "name": "stdout",
     "output_type": "stream",
     "text": [
      "https://gql.sfanytime.com/graphql\\?operationName\\=ContentCollectionQuery\\&variables\\=%7B%22locale%22%3A%22fi%22%2C%22slug%22%3A%22elokuvat%22%7D\\&extensions\\=%7B%22persistedQuery%22%3A%7B%22version%22%3A1%2C%22sha256Hash%22%3A%228985c5d821d45a4a73c3e18680011bb95838b51563d87b15dd32bc0e469cf669%22%7D%7D\n"
     ]
    }
   ],
   "source": [
    "print(sfanytimelistmovesurl)"
   ]
  },
  {
   "cell_type": "code",
   "execution_count": null,
   "metadata": {},
   "outputs": [],
   "source": []
  }
 ],
 "metadata": {
  "kernelspec": {
   "display_name": "Python 3",
   "language": "python",
   "name": "python3"
  },
  "language_info": {
   "codemirror_mode": {
    "name": "ipython",
    "version": 3
   },
   "file_extension": ".py",
   "mimetype": "text/x-python",
   "name": "python",
   "nbconvert_exporter": "python",
   "pygments_lexer": "ipython3",
   "version": "3.7.7"
  }
 },
 "nbformat": 4,
 "nbformat_minor": 4
}
